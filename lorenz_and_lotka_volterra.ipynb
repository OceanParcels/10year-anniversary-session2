{
  "cells": [
    {
      "cell_type": "markdown",
      "metadata": {},
      "source": [
        "# Parcels as an ODE solver\n",
        "`Parcels` is, at its heart, an interpolation and integration machine! While it's designed for simulating the trajectories of particles (parcels!) in geophysical applications, it can easily be used for non-geophysical problem solving. In this notebook, we consider two examples of numerically solving systems of ODE's: the Lorenz \"butterfly\" attractor, and the Lotka-Volterra predator-prey model."
      ]
    },
    {
      "cell_type": "markdown",
      "metadata": {},
      "source": [
        "## Lorenz Attractor\n",
        "In the first part of this notebook, we demonstrate how to simulate and visualize the Lorenz attractor using `parcels`. We will implement three numerical integration schemes (EE, RK2, and RK4), and visualise and compare the results.\n",
        "\n",
        "### The Lorenz System: Equations and Background\n",
        "\n",
        "The Lorenz system is a set of three coupled, nonlinear ordinary differential equations originally developed to model atmospheric convection. It is famous for exhibiting chaotic behavior and is a classic example in the study of dynamical systems and chaos theory.\n",
        "\n",
        "The equations are:\n",
        "$$\n",
        "\\begin{align*}\n",
        "\\frac{dx}{dt} &= \\sigma (y - x), \\\\\n",
        "\\frac{dy}{dt} &= x (\\rho - z) - y, \\\\\n",
        "\\frac{dz}{dt} &= x y - \\beta z,\n",
        "\\end{align*}\n",
        "$$\n",
        "\n",
        "where $x, y, z$ are the system state variables (can be interpreted as convective intensity, temperature difference, and vertical temperature profile, respectively), $\\sigma$ is the Prandtl number, $\\rho$ is the Rayleigh number, and $\\beta$ is a geometric factor. For certain parameter values (e.g., $\\sigma=10$, $\\rho=28$, $\\beta=8/3$), the system exhibits sensitive dependence on initial conditions, leading to the famous \"butterfly effect.\"\n",
        "\n",
        "\n",
        "Since we will model the system with three different schemes, namely the Explicit Euler, the Runge-Kutta order 2, and Runge-Kutta order 4 schemes, we will also keep track of the \"energy\" of the state over time. The \"Lorenz energy\" $E$ can be computed as:\n",
        "\n",
        "$$\n",
        "\\begin{align*}\n",
        "E = \\frac{x^2}{2} + y^2 + z^2 - z.\n",
        "\\end{align*}\n",
        "$$\n",
        "\n",
        "When comparing different integration schemes, or timesteps, the simulation that best \"conserves\" this \"Lorenz energy\" would (typically) be considered more accurate.\n",
        "\n",
        "### Modelling the Lorenz system with an EE scheme"
      ]
    },
    {
      "cell_type": "code",
      "execution_count": null,
      "metadata": {
        "id": "IiYQtvDgClx1"
      },
      "outputs": [],
      "source": [
        "## Import required libraries for the Lorenz attractor simulation\n",
        "import numpy as np\n",
        "import xarray as xr\n",
        "import parcels\n",
        "import matplotlib.pyplot as plt\n",
        "from datetime import timedelta\n",
        "\n",
        "# For some cells we plot an interactive 3D plot, however you will need plotly installed\n",
        "#import plotly.graph_objects as go"
      ]
    },
    {
      "cell_type": "code",
      "execution_count": null,
      "metadata": {
        "id": "KZKUFdN3CmPV"
      },
      "outputs": [],
      "source": [
        "# Create a dummy fieldset (no background flow) for the Lorenz system\n",
        "fieldset = parcels.FieldSet.from_data(\n",
        "    {\"U\": 0, \"V\": 0}, {\"lon\": 0, \"lat\": 0}, mesh=\"flat\"\n",
        ")"
      ]
    },
    {
      "cell_type": "code",
      "execution_count": null,
      "metadata": {
        "id": "jqkccA6lCnR2"
      },
      "outputs": [],
      "source": [
        "# Add constants for the Lorenz system to the fieldset\n",
        "fieldset.add_constant('rho', 28.)     # Rayleigh number\n",
        "fieldset.add_constant('sigma', 10.)   # Prandtl number\n",
        "fieldset.add_constant('beta', 8./3.)  # Geometric factor"
      ]
    },
    {
      "cell_type": "code",
      "execution_count": null,
      "metadata": {
        "id": "V5thwKUhCoDw"
      },
      "outputs": [],
      "source": [
        "# Define initial positions for two Lorenz particles\n",
        "initial_position = [[0,0],       # x-coordinates\n",
        "                    [1,1],       # y-coordinates\n",
        "                    [1.05, 2.5]] # z-coordinates (slightly different to show sensitivity to initial conditions)"
      ]
    },
    {
      "cell_type": "code",
      "execution_count": null,
      "metadata": {},
      "outputs": [],
      "source": [
        "# Set simulation parameters for the Lorenz system\n",
        "runtime = timedelta(milliseconds=50000)  # Total simulation time\n",
        "dt = timedelta(milliseconds=10)          # Time step for integration\n",
        "outputdt = dt                            # Output interval\n",
        "chunks = int(runtime/outputdt)           # Chunk size (important for fast IO)"
      ]
    },
    {
      "cell_type": "code",
      "execution_count": null,
      "metadata": {},
      "outputs": [],
      "source": [
        "# Define a custom particle class for Lorenz with an energy variable\n",
        "LorenzParticle = parcels.JITParticle\n",
        "LorenzParticle = LorenzParticle.add_variable(\"energy\", np.float64)"
      ]
    },
    {
      "cell_type": "code",
      "execution_count": null,
      "metadata": {},
      "outputs": [],
      "source": [
        "# Create a ParticleSet for the Lorenz system\n",
        "pset = parcels.ParticleSet(fieldset=fieldset, pclass=LorenzParticle,\n",
        "    lon=[initial_position[0]],\n",
        "    lat=[initial_position[1]],\n",
        "    depth=[initial_position[2]])"
      ]
    },
    {
      "cell_type": "code",
      "execution_count": null,
      "metadata": {},
      "outputs": [],
      "source": [
        "# Construct an output file for storing simulation results\n",
        "pfile = pset.ParticleFile(name=\"output/lorenz.zarr\", outputdt=outputdt, chunks=(len(pset), chunks))  # Important to chunk the output for fast IO"
      ]
    },
    {
      "cell_type": "code",
      "execution_count": null,
      "metadata": {
        "id": "M1QzmI-TCp1S"
      },
      "outputs": [],
      "source": [
        "# Define the Lorenz kernel using the Explicit Euler scheme\n",
        "def LorenzKernelEE(particle, fieldset, time):\n",
        "    \"\"\"Write your own code here! Ask for help if needed. Treat lon,lat,depth as x,y,z,\n",
        "        and solve the Lorenz system!\n",
        "    \"\"\"\n",
        "    x = ...\n",
        "    y = ...\n",
        "    z = ...\n",
        "    # Euler integration for Lorenz equations\n",
        "    particle_dlon += ...   # dx/dt\n",
        "    particle_dlat += ...   # dy/dt\n",
        "    particle_ddepth += ... # dz/dt"
      ]
    },
    {
      "cell_type": "code",
      "execution_count": null,
      "metadata": {},
      "outputs": [],
      "source": [
        "# Kernel to compute the \"energy\" of a Lorenz simulation at each step\n",
        "def LorenzEnergy(particle, fieldset, time):\n",
        "    \"\"\" Write a kernel to compute the Lorenz energy variable! Ask for help if needed.\"\"\"\n",
        "    x = ...\n",
        "    y = ...\n",
        "    z = ...\n",
        "    # Compute and set the Lorenz energy variable\n",
        "    particle.energy = ..."
      ]
    },
    {
      "cell_type": "code",
      "execution_count": null,
      "metadata": {
        "colab": {
          "base_uri": "https://localhost:8080/"
        },
        "id": "0YHm0KWtCqy4",
        "outputId": "7ef9d503-0ac1-4d65-f0f8-53680ae8d6c1"
      },
      "outputs": [],
      "source": [
        "# Run the simulation using the Explicit Euler kernel and energy calculation\n",
        "pset.execute([LorenzKernelEE, LorenzEnergy],\n",
        "             runtime=runtime,\n",
        "             dt=dt,\n",
        "             output_file=pfile)"
      ]
    },
    {
      "cell_type": "code",
      "execution_count": null,
      "metadata": {
        "colab": {
          "base_uri": "https://localhost:8080/"
        },
        "id": "BXwedkabCskU",
        "outputId": "cba8d1df-8e2c-4bcd-abed-8a169aa56a25"
      },
      "outputs": [],
      "source": [
        "# Load the simulation results from the output file\n",
        "ds_ee = xr.open_zarr(pfile.fname, decode_timedelta=True)"
      ]
    },
    {
      "cell_type": "code",
      "execution_count": null,
      "metadata": {
        "colab": {
          "base_uri": "https://localhost:8080/",
          "height": 430
        },
        "id": "_AT2RaEVCt-F",
        "outputId": "68d0e784-4910-457b-e140-5b71e77a2d81"
      },
      "outputs": [],
      "source": [
        "# Plot the Lorenz trajectories in 2D projections\n",
        "fig, ax = plt.subplots(nrows=1, ncols=3, figsize=(9, 3))\n",
        "\n",
        "# XY plane\n",
        "ax[0].plot(ds_ee.lon.T, ds_ee.lat.T, lw=0.35)\n",
        "ax[0].set_xlabel(r'$x$')\n",
        "ax[0].set_ylabel(r'$y$')\n",
        "ax[0].set_title(r'$xy$-plane')\n",
        "\n",
        "# XZ plane\n",
        "ax[1].plot(ds_ee.lon.T, ds_ee.z.T, lw=0.35)\n",
        "ax[1].set_xlabel(r'$x$')\n",
        "ax[1].set_ylabel(r'$z$')\n",
        "ax[1].set_title(r'$xz$-plane')\n",
        "\n",
        "# YZ plane\n",
        "ax[2].plot(ds_ee.lat.T, ds_ee.z.T, lw=0.35)\n",
        "ax[2].set_xlabel(r'$y$')\n",
        "ax[2].set_ylabel(r'$z$')\n",
        "ax[2].set_title(r'$yz$-plane')\n",
        "\n",
        "plt.tight_layout()\n",
        "plt.show()"
      ]
    },
    {
      "cell_type": "code",
      "execution_count": null,
      "metadata": {
        "colab": {
          "base_uri": "https://localhost:8080/",
          "height": 415
        },
        "id": "9YOYa7vDDG0Y",
        "outputId": "9431226c-6bde-467a-bf1c-c7a4696fd627"
      },
      "outputs": [],
      "source": [
        "# Plot the Lorenz attractor in 3D using Matplotlib\n",
        "fig = plt.figure(figsize=(6,6))\n",
        "ax = fig.add_subplot(111, projection='3d')\n",
        "for particle_id in ds_ee.trajectory:\n",
        "    ax.plot(ds_ee.lon.sel(trajectory=particle_id), ds_ee.lat.sel(trajectory=particle_id), ds_ee.z.sel(trajectory=particle_id), lw=0.45)\n",
        "ax.set_xlabel(r'$x$')\n",
        "ax.set_ylabel(r'$y$')\n",
        "ax.set_zlabel(r'$z$', labelpad=-2)\n",
        "ax.set_title('Lorenz Attractor (Explicit Euler)')\n",
        "plt.show()"
      ]
    },
    {
      "cell_type": "code",
      "execution_count": null,
      "metadata": {},
      "outputs": [],
      "source": [
        "# Interactive 3D plot of the two trajectories\n",
        "# You will need plotly installed, you can do this with \"conda install -c conda-forge plotly\" once you have activated your parcels environment\n",
        "import plotly.graph_objects as go\n",
        "\n",
        "fig = go.Figure()\n",
        "for particle_id in ds_ee.trajectory:\n",
        "    fig.add_trace(go.Scatter3d(\n",
        "        x=ds_ee.lon.sel(trajectory=particle_id),\n",
        "        y=ds_ee.lat.sel(trajectory=particle_id),\n",
        "        z=ds_ee.z.sel(trajectory=particle_id),\n",
        "        mode='lines',\n",
        "        line=dict(width=1)\n",
        "    ))\n",
        "fig.update_layout(scene = dict(xaxis_title='x', yaxis_title='y', zaxis_title='z'),\n",
        "                  width=700,\n",
        "                  margin=dict(r=20, b=10, l=10, t=10))\n",
        "fig.show()"
      ]
    },
    {
      "cell_type": "code",
      "execution_count": null,
      "metadata": {},
      "outputs": [],
      "source": [
        "# Plot the computed \"Lorenz energy\" of each solution over time\n",
        "fig = plt.figure(figsize=(9,3))\n",
        "plt.plot(ds_ee.time.T, ds_ee.energy.T, lw=0.5)\n",
        "plt.xlabel(\"Time\")\n",
        "plt.ylabel(\"Lorenz Energy\")\n",
        "plt.title('Lorenz Energy vs. Time (EE)')\n",
        "plt.show()"
      ]
    },
    {
      "cell_type": "markdown",
      "metadata": {},
      "source": [
        "### Using an RK2 integration scheme\n",
        "We will now create a kernel that uses the RK2 scheme, and compare it to the EE scheme."
      ]
    },
    {
      "cell_type": "code",
      "execution_count": null,
      "metadata": {},
      "outputs": [],
      "source": [
        "# Re-create the ParticleSet for the RK2\n",
        "pset = parcels.ParticleSet(fieldset=fieldset, pclass=LorenzParticle,\n",
        "    lon=[initial_position[0]],\n",
        "    lat=[initial_position[1]],\n",
        "    depth=[initial_position[2]])"
      ]
    },
    {
      "cell_type": "code",
      "execution_count": null,
      "metadata": {},
      "outputs": [],
      "source": [
        "# Define the Lorenz kernel using the RK2 (second-order Runge-Kutta) scheme\n",
        "def LorenzKernelRK2(particle, fieldset, time):\n",
        "    \"\"\" Write and RK2 scheme to solve the Lorenz system! Ask for help if needed.\"\"\"\n",
        "    particle_dlon += ...\n",
        "    particle_dlat += ...\n",
        "    particle_ddepth += ..."
      ]
    },
    {
      "cell_type": "code",
      "execution_count": null,
      "metadata": {},
      "outputs": [],
      "source": [
        "# Construct an output file for the RK2 simulation\n",
        "pfile = pset.ParticleFile(name=\"output/lorenzRK2.zarr\", outputdt=outputdt, chunks=(len(pset), chunks))"
      ]
    },
    {
      "cell_type": "code",
      "execution_count": null,
      "metadata": {},
      "outputs": [],
      "source": [
        "# Run the simulation using the RK2 kernel and energy calculation\n",
        "pset.execute([LorenzKernelRK2, LorenzEnergy],\n",
        "             runtime=runtime,\n",
        "             dt=dt,\n",
        "             output_file=pfile)"
      ]
    },
    {
      "cell_type": "code",
      "execution_count": null,
      "metadata": {},
      "outputs": [],
      "source": [
        "# Load the RK2 simulation results from the output file\n",
        "ds_rk2 = xr.open_zarr(pfile.fname, decode_timedelta=True)"
      ]
    },
    {
      "cell_type": "code",
      "execution_count": null,
      "metadata": {},
      "outputs": [],
      "source": [
        "# Interactive 3D plot of the Lorenz trajectories (RK2) using Plotly\n",
        "fig = go.Figure()\n",
        "for particle_id in ds_rk2.trajectory:\n",
        "    fig.add_trace(go.Scatter3d(\n",
        "        x=ds_rk2.lon.sel(trajectory=particle_id),\n",
        "        y=ds_rk2.lat.sel(trajectory=particle_id),\n",
        "        z=ds_rk2.z.sel(trajectory=particle_id),\n",
        "        mode='lines',\n",
        "        line=dict(width=1)\n",
        "    ))\n",
        "fig.update_layout(scene = dict(xaxis_title='x', yaxis_title='y', zaxis_title='z'),\n",
        "                  width=500,\n",
        "                  margin=dict(r=20, b=10, l=10, t=10))\n",
        "fig.show()"
      ]
    },
    {
      "cell_type": "code",
      "execution_count": null,
      "metadata": {},
      "outputs": [],
      "source": [
        "# Plot the computed \"Lorenz energy\" of the simulations (RK2) over time\n",
        "fig = plt.figure(figsize=(9,3))\n",
        "plt.plot(ds_rk2.time.T, ds_rk2.energy.T, lw=0.5)\n",
        "plt.xlabel(\"Time\")\n",
        "plt.ylabel(\"Energy\")\n",
        "plt.title('Lorenz Energy vs. Time (RK2)')\n",
        "plt.show()"
      ]
    },
    {
      "cell_type": "code",
      "execution_count": null,
      "metadata": {},
      "outputs": [],
      "source": [
        "# Compare the energy evolution for EE and RK2 schemes\n",
        "fig = plt.figure(figsize=(9, 3))\n",
        "plt.plot(ds_ee.time.T, ds_ee.energy.T, lw=0.5, label='EE')\n",
        "plt.plot(ds_rk2.time.T, ds_rk2.energy.T, lw=0.5, label='RK2')\n",
        "plt.xlabel(\"Time\")\n",
        "plt.ylabel(\"Energy\")\n",
        "plt.title('Lorenz Energy: EE vs RK2')\n",
        "plt.show()"
      ]
    },
    {
      "cell_type": "code",
      "execution_count": null,
      "metadata": {},
      "outputs": [],
      "source": [
        "# 3D plot of the difference between EE and RK2 trajectories\n",
        "fig = go.Figure()\n",
        "for particle_id in range(len(ds_ee.trajectory)):\n",
        "    ee_particle_id = ds_ee.trajectory[particle_id]\n",
        "    rk2_particle_id = ds_rk2.trajectory[particle_id]\n",
        "    fig.add_trace(go.Scatter3d(\n",
        "        x=ds_ee.lon.sel(trajectory=ee_particle_id) - ds_rk2.lon.sel(trajectory=rk2_particle_id),\n",
        "        y=ds_ee.lat.sel(trajectory=ee_particle_id) - ds_rk2.lat.sel(trajectory=rk2_particle_id),\n",
        "        z=ds_ee.z.sel(trajectory=ee_particle_id) - ds_rk2.z.sel(trajectory=rk2_particle_id),\n",
        "        mode='lines',\n",
        "        line=dict(width=1)\n",
        "    ))\n",
        "fig.update_layout(scene = dict(xaxis_title='x', yaxis_title='y', zaxis_title='z'),\n",
        "                  width=700,\n",
        "                  margin=dict(r=20, b=10, l=10, t=10),\n",
        "                  title='Difference: EE - RK2')\n",
        "fig.show()"
      ]
    },
    {
      "cell_type": "markdown",
      "metadata": {},
      "source": [
        "#### Now let's create an RK4 scheme"
      ]
    },
    {
      "cell_type": "code",
      "execution_count": null,
      "metadata": {},
      "outputs": [],
      "source": [
        "# Create a kernel for the Lorenz attractor using an RK4 scheme\n",
        "def LorenzKernelRK4(particle, fieldset, time):\n",
        "    \"\"\" If you're really ambitious, try to write your own RK4 scheme for the Lorenz system!\n",
        "        Ask for help if needed.\n",
        "    \"\"\"\n",
        "    particle_dlon += ...\n",
        "    particle_dlat += ...\n",
        "    particle_ddepth += ..."
      ]
    },
    {
      "cell_type": "code",
      "execution_count": null,
      "metadata": {},
      "outputs": [],
      "source": [
        "# Recreate the particle set for the RK4 simulation\n",
        "pset = parcels.ParticleSet(fieldset=fieldset, pclass=LorenzParticle,\n",
        "    lon=[initial_position[0]],\n",
        "    lat=[initial_position[1]],\n",
        "    depth=[initial_position[2]])\n",
        "\n",
        "# Construct an output file for the RK4 simulation\n",
        "pfile = pset.ParticleFile(name=\"output/lorenzRK4.zarr\", outputdt=outputdt, chunks=(len(pset), chunks))\n",
        "\n",
        "# Run the simulation\n",
        "pset.execute([LorenzKernelRK4, LorenzEnergy],\n",
        "             runtime=runtime,\n",
        "             dt=dt,\n",
        "             output_file=pfile)"
      ]
    },
    {
      "cell_type": "code",
      "execution_count": null,
      "metadata": {},
      "outputs": [],
      "source": [
        "# Load in the RK4 results\n",
        "ds_rk4 = xr.open_zarr('output/lorenzRK4.zarr', decode_timedelta=True)"
      ]
    },
    {
      "cell_type": "code",
      "execution_count": null,
      "metadata": {},
      "outputs": [],
      "source": [
        "# Plot the \"Lorenz Energy\" for the RK4 simulation over time\n",
        "fig = plt.figure(figsize=(9, 3))\n",
        "plt.plot(ds_rk4.time.T, ds_rk4.energy.T, lw=0.5)\n",
        "plt.xlabel(\"Time\")\n",
        "plt.ylabel(\"Lorenz Energy\")\n",
        "plt.title('Lorenz Energy vs. Time (RK4)')\n",
        "plt.show()"
      ]
    },
    {
      "cell_type": "code",
      "execution_count": null,
      "metadata": {},
      "outputs": [],
      "source": [
        "# Compare the difference in solutions to the RK2 simulation\n",
        "fig = go.Figure()\n",
        "for particle_id in range(len(ds_rk4.trajectory)):\n",
        "    rk4_particle_id = ds_rk4.trajectory[particle_id]\n",
        "    rk2_particle_id = ds_rk2.trajectory[particle_id]\n",
        "    fig.add_trace(go.Scatter3d(\n",
        "        x=ds_rk4.lon.sel(trajectory=rk4_particle_id) - ds_rk2.lon.sel(trajectory=rk2_particle_id),\n",
        "        y=ds_rk4.lat.sel(trajectory=rk4_particle_id) - ds_rk2.lat.sel(trajectory=rk2_particle_id),\n",
        "        z=ds_rk4.z.sel(trajectory=rk4_particle_id) - ds_rk2.z.sel(trajectory=rk2_particle_id),\n",
        "        mode='lines',\n",
        "        line=dict(width=1)\n",
        "    ))\n",
        "fig.update_layout(scene = dict(xaxis_title='x', yaxis_title='y', zaxis_title='z'),\n",
        "                  width=700,\n",
        "                  margin=dict(r=20, b=10, l=10, t=10))\n",
        "fig.show()"
      ]
    },
    {
      "cell_type": "code",
      "execution_count": null,
      "metadata": {},
      "outputs": [],
      "source": [
        "# Compute and print the mean energy for each scheme\n",
        "print(\"Mean Energy (EE):\", ds_ee.energy.mean(dim='obs').values)\n",
        "print(\"Mean Energy (RK2):\", ds_rk2.energy.mean(dim='obs').values)\n",
        "print(\"Mean Energy (RK4):\", ds_rk4.energy.mean(dim='obs').values)\n",
        "plt.bar(['EE', 'RK2', 'RK4'], [ds_ee.energy.mean().values, ds_rk2.energy.mean().values, ds_rk4.energy.mean().values])\n",
        "plt.ylabel('Mean \"Lorenz Energy\" of all simulations')\n",
        "plt.xlabel('Integration Scheme')\n",
        "plt.title('Mean \"Lorenz Energy\" by Integration Scheme')\n",
        "plt.show()"
      ]
    },
    {
      "cell_type": "markdown",
      "metadata": {},
      "source": [
        "#### Additional exercises:\n",
        "1. Explore what happens when you change the timestep of each scheme. Can you sufficiently shorten the timestep of the EE simulation so that it gives similar results to the RK4 simulation?"
      ]
    },
    {
      "cell_type": "markdown",
      "metadata": {},
      "source": [
        "## Lotka-Volterra Predator-Prey System\n",
        "\n",
        "In the second part of this notebook, we demonstrate how to simulate and visualize the Lotka-Volterra equations using `parcels`. Here, we will implement two numerical integration schemes (EE, andRK2), and visualise and compare the results.\n",
        "\n",
        "\n",
        "### The Lotka-Volterra equations\n",
        "The Lotka-Volterra equations describe a classic model of predator-prey dynamics. The Lotka-Volterra equations are:\n",
        "\n",
        "$$\n",
        "\\begin{align*}\n",
        "\\frac{dx}{dt} &= \\alpha x - \\beta x y, \\\\\n",
        "\\frac{dy}{dt} &= -\\gamma y + \\delta x y,\n",
        "\\end{align*}\n",
        "$$\n",
        "\n",
        "where $x$ is the prey population, $y$ is the predator population, and the parameters of the model are: $\\alpha$ the prey growth rate, $\\beta$ the predation rate,  $\\gamma$ the predator death rate, and $\\delta$ the predator reproduction rate per prey eaten.\n"
      ]
    },
    {
      "cell_type": "code",
      "execution_count": null,
      "metadata": {},
      "outputs": [],
      "source": [
        "# Set Lotka-Volterra model parameters for the simulation\n",
        "fieldset.add_constant('alpha', 2./3.)   # Prey (e.g., rabbits) growth rate\n",
        "fieldset.add_constant('beta', 4./3.)    # Predation rate coefficient # This will overwrite the beta we added before!\n",
        "fieldset.add_constant('gamma', 1.)      # Predator (e.g., foxes) death rate\n",
        "fieldset.add_constant('delta', 1.)      # Predator reproduction rate per prey eaten"
      ]
    },
    {
      "cell_type": "code",
      "execution_count": null,
      "metadata": {},
      "outputs": [],
      "source": [
        "# Define the Lotka-Volterra kernel using the explicit Euler method\n",
        "def LotkaVolteraKernelEE(particle, fieldset, time):\n",
        "    \"\"\"Write your own code here! Ask for help if needed. Treat lon,lat as x, and y.\n",
        "        and solve the Lorenz system!\n",
        "    \"\"\"\n",
        "    x = ...  # Pretend lons are our prey population\n",
        "    y = ...  # Pretend lats are our predator population\n",
        "    \n",
        "    particle_dlon += ...    # dx/dt\n",
        "    particle_dlat += ...    # dy/dt"
      ]
    },
    {
      "cell_type": "code",
      "execution_count": null,
      "metadata": {},
      "outputs": [],
      "source": [
        "# Define the Lotka-Volterra kernel using the RK2 (second-order Runge-Kutta) scheme\n",
        "def LotkaVolteraKernelRK2(particle, fieldset, time):\n",
        "    \"\"\"Write your own code here! Ask for help if needed. Treat lon,lat,depth as x,y,z,\n",
        "        and solve the Lorenz system!\n",
        "    \"\"\"\n",
        "    \n",
        "    particle_dlon += ...    # dx/dt\n",
        "    particle_dlat += ...    # dy/dt"
      ]
    },
    {
      "cell_type": "code",
      "execution_count": null,
      "metadata": {},
      "outputs": [],
      "source": [
        "# Define the Lotka-Volterra kernel using the RK4 (fourth-order Runge-Kutta) scheme\n",
        "def LotkaVolteraKernelRK4(particle, fieldset, time):\n",
        "    \"\"\"Write your own code here! Ask for help if needed. Treat lon,lat,depth as x,y,z,\n",
        "        and solve the Lorenz system!\n",
        "    \"\"\"\n",
        "    \n",
        "    particle_dlon += ...    # dx/dt\n",
        "    particle_dlat += ...    # dy/dt"
      ]
    },
    {
      "cell_type": "code",
      "execution_count": null,
      "metadata": {},
      "outputs": [],
      "source": [
        "# Simulation settings\n",
        "runtime = timedelta(milliseconds=50000)\n",
        "dt = timedelta(milliseconds=10)\n",
        "outputdt = dt\n",
        "chunks = int(runtime/outputdt) # Because we will store a lot of positions, to speed up our simulation we need to chunk the output datafile\n",
        "\n",
        "initial_position = [np.linspace(0.4,1.8,10, endpoint=True),       # initial x (prey)\n",
        "                    np.linspace(0.4,1.8,10, endpoint=True)]       # initial y (predator)\n",
        "\n"
      ]
    },
    {
      "cell_type": "code",
      "execution_count": null,
      "metadata": {},
      "outputs": [],
      "source": [
        "# Run the simulation for EE scheme\n",
        "pset = parcels.ParticleSet(fieldset=fieldset, pclass=parcels.JITParticle,\n",
        "    lon=[initial_position[0]],\n",
        "    lat=[initial_position[1]])\n",
        "\n",
        "pfile = pset.ParticleFile(name=\"output/lotkavolterraEE.zarr\", outputdt=outputdt, chunks=(len(pset), chunks))\n",
        "\n",
        "pset.execute(LotkaVolteraKernelEE,\n",
        "             runtime=runtime,\n",
        "             dt=dt,\n",
        "             output_file=pfile)\n",
        "\n",
        "# Run the simulation for RK2 scheme\n",
        "pset = parcels.ParticleSet(fieldset=fieldset, pclass=parcels.JITParticle,\n",
        "    lon=[initial_position[0]],\n",
        "    lat=[initial_position[1]])\n",
        "\n",
        "pfile = pset.ParticleFile(name=\"output/lotkavolterraRK2.zarr\", outputdt=outputdt, chunks=(len(pset), chunks))\n",
        "\n",
        "pset.execute(LotkaVolteraKernelRK2,\n",
        "             runtime=runtime,\n",
        "             dt=dt,\n",
        "             output_file=pfile)\n",
        "\n",
        "# Run the simulation for RK4 scheme\n",
        "pset = parcels.ParticleSet(fieldset=fieldset, pclass=parcels.JITParticle,\n",
        "    lon=[initial_position[0]],\n",
        "    lat=[initial_position[1]])\n",
        "\n",
        "pfile = pset.ParticleFile(name=\"output/lotkavolterraRK4.zarr\", outputdt=outputdt, chunks=(len(pset), chunks))\n",
        "\n",
        "pset.execute(LotkaVolteraKernelRK4,\n",
        "             runtime=runtime,\n",
        "             dt=dt,\n",
        "             output_file=pfile)"
      ]
    },
    {
      "cell_type": "code",
      "execution_count": null,
      "metadata": {},
      "outputs": [],
      "source": [
        "# Load the simulation results using the EE and RK2 schemes\n",
        "ds_ee = xr.open_zarr(\"output/lotkavolterraEE.zarr\", decode_timedelta=True)\n",
        "ds_rk2 = xr.open_zarr(\"output/lotkavolterraRK2.zarr\", decode_timedelta=True)\n",
        "ds_rk4 = xr.open_zarr(\"output/lotkavolterraRK4.zarr\", decode_timedelta=True)"
      ]
    },
    {
      "cell_type": "code",
      "execution_count": null,
      "metadata": {},
      "outputs": [],
      "source": [
        "# Plot the phase space (prey vs. predator) trajectorys to show the cyclical nature of the populations\n",
        "fig, ax = plt.subplots(nrows=1, ncols=3, figsize=(18,6))\n",
        "ax[0].plot(ds_ee['lon'].T, ds_ee['lat'].T)\n",
        "ax[0].set_xlabel('Prey (x)')\n",
        "ax[0].set_ylabel('Predator (y)')\n",
        "ax[0].set_title('Phase Space - EE scheme')\n",
        "\n",
        "ax[1].plot(ds_rk2['lon'].T, ds_rk2['lat'].T)\n",
        "ax[1].set_xlabel('Prey (x)')\n",
        "ax[1].set_title('Phase Space - RK2 scheme')\n",
        "\n",
        "ax[2].plot(ds_rk4['lon'].T, ds_rk4['lat'].T)\n",
        "ax[2].set_xlabel('Prey (x)')\n",
        "ax[2].set_title('Phase Space - RK4 scheme')\n",
        "\n",
        "plt.show()"
      ]
    },
    {
      "cell_type": "code",
      "execution_count": null,
      "metadata": {},
      "outputs": [],
      "source": [
        "fig, ax = plt.subplots(nrows=1, ncols=3, figsize=(20,6))\n",
        "ax[0].plot(ds_ee['lon'].T.values - ds_rk2['lon'].T.values, ds_ee['lat'].T.values - ds_rk2['lat'].T.values)\n",
        "ax[0].set_xlabel('Difference in $x$ Prey')\n",
        "ax[0].set_ylabel('Difference in $y$ Predator')\n",
        "ax[0].set_title('EE vs. RK2')\n",
        "\n",
        "ax[1].plot(ds_ee['lon'].T.values - ds_rk4['lon'].T.values, ds_ee['lat'].T.values - ds_rk4['lat'].T.values)\n",
        "ax[1].set_xlabel('Difference in $x$ Prey')\n",
        "ax[1].set_title('EE vs. RK4')\n",
        "\n",
        "ax[2].plot(ds_rk2['lon'].T.values - ds_rk4['lon'].T.values, ds_rk2['lat'].T.values - ds_rk4['lat'].T.values)\n",
        "ax[2].set_xlabel('Difference in $x$ Prey')\n",
        "ax[2].set_title('RK2 vs. RK4')\n",
        "\n",
        "plt.show()"
      ]
    },
    {
      "cell_type": "markdown",
      "metadata": {},
      "source": [
        "Note: the EE scheme is unstable, we expect to see periodic trajectories here! Does the RK4 scheme perform better than the RK2?"
      ]
    },
    {
      "cell_type": "markdown",
      "metadata": {},
      "source": [
        "#### Additional exercises:\n",
        "1. Can you achieve RK2/4 level accuracy with a shorter timestep for the EE scheme?"
      ]
    }
  ],
  "metadata": {
    "colab": {
      "provenance": []
    },
    "kernelspec": {
      "display_name": "parcels_workshop",
      "language": "python",
      "name": "python3"
    },
    "language_info": {
      "codemirror_mode": {
        "name": "ipython",
        "version": 3
      },
      "file_extension": ".py",
      "mimetype": "text/x-python",
      "name": "python",
      "nbconvert_exporter": "python",
      "pygments_lexer": "ipython3",
      "version": "3.13.7"
    }
  },
  "nbformat": 4,
  "nbformat_minor": 0
}

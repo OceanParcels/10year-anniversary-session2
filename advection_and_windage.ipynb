{
 "cells": [
  {
   "cell_type": "markdown",
   "id": "93181a11",
   "metadata": {},
   "source": [
    "# Using and Making Kernels in Parcels\n",
    "`Parcels` provides a set of Python classes and methods to create customisable particle tracking simulations using gridded output from (ocean) circulation models. You should think of `parcels` as a *toolbox*, rather than an out-of-the-box model, where you're in control of your own simulations! In this notebook, we will construct several kernels, the building blocks of a `parcels` simulation."
   ]
  },
  {
   "cell_type": "markdown",
   "id": "94d44a4e",
   "metadata": {},
   "source": [
    "## Make-your-own advection kernel\n",
    "Imagine you are a water parcel, with position $\\mathbf{x}(t) = (x(t), y(t), z(t))$ at time $t$. You move along with the ocean flow, and hence your change in position can be described by the equation:\n",
    "\n",
    "\\begin{align*}\n",
    "\\frac{\\text{d}\\mathbf{x}(t)}{\\text{d}t} = \\mathbf{v}(\\mathbf{x}(t),t),\n",
    "\\end{align*}\n",
    "\n",
    "where $\\mathbf{v}(\\mathbf{x},t) = (u(\\mathbf{x},t), v(\\mathbf{x},t), w(\\mathbf{x},t))$ describes the ocean velocity field at position $\\mathbf{x}$ a time $t$.\n",
    "\n",
    "In the first part of this notebook, we will create a two-dimensional second order Runge-Kutta (RK2) integration scheme in order to solve this advection equation (ignoring the $w$ component). We will compare it to the built-in Euler-forward (EE) and fourth order Runge-Kutta (RK4) schemes in `parcels`, using a variety of timesteps. We will utilise the GlobCurrent ocean model velocity data for our $\\mathbf{v}$."
   ]
  },
  {
   "cell_type": "code",
   "execution_count": null,
   "id": "c731cee0",
   "metadata": {},
   "outputs": [],
   "source": [
    "## Library imports\n",
    "import matplotlib.pyplot as plt\n",
    "import numpy as np\n",
    "import xarray as xr\n",
    "import math\n",
    "from datetime import timedelta\n",
    "import inspect\n",
    "\n",
    "import parcels"
   ]
  },
  {
   "cell_type": "code",
   "execution_count": null,
   "id": "3620c7ec",
   "metadata": {},
   "outputs": [],
   "source": [
    "# Load the GlobCurrent data in the Agulhas region from the example_data\n",
    "example_dataset_folder = parcels.download_example_dataset(\"GlobCurrent_example_data\")\n",
    "filenames = {\n",
    "    \"U\": f\"{example_dataset_folder}/20*.nc\",\n",
    "    \"V\": f\"{example_dataset_folder}/20*.nc\",\n",
    "}\n",
    "variables = {\n",
    "    \"U\": \"eastward_eulerian_current_velocity\",\n",
    "    \"V\": \"northward_eulerian_current_velocity\",\n",
    "}\n",
    "dimensions = {\"lat\": \"lat\", \"lon\": \"lon\", \"time\": \"time\"}\n",
    "fieldset = parcels.FieldSet.from_netcdf(filenames, variables, dimensions)"
   ]
  },
  {
   "cell_type": "code",
   "execution_count": null,
   "id": "7190945c",
   "metadata": {},
   "outputs": [],
   "source": [
    "# To get a sense of what the built-in Euler-forward scheme looks like, let's look at the source code! \n",
    "print(inspect.getsource(parcels.AdvectionEE))"
   ]
  },
  {
   "cell_type": "code",
   "execution_count": null,
   "id": "7623e2ad",
   "metadata": {},
   "outputs": [],
   "source": [
    "# To get a sense of what the built-in RK4 scheme looks like, let's look at the source code! \n",
    "print(inspect.getsource(parcels.AdvectionRK4))"
   ]
  },
  {
   "cell_type": "markdown",
   "id": "3e3005e0",
   "metadata": {},
   "source": [
    "Note: To access the data within a field, you can use either of the following notation:\n",
    "```python\n",
    "(u1, v1) = fieldset.UV[particle]\n",
    "```\n",
    "or\n",
    "```python\n",
    "(u1, v1) = fieldset.UV[time, particle.depth, particle.lat, particle.lon]\n",
    "```\n",
    "You will need to use the second formulation in the RK2 scheme!"
   ]
  },
  {
   "cell_type": "code",
   "execution_count": null,
   "id": "42a6612c",
   "metadata": {},
   "outputs": [],
   "source": [
    "# Now, write your own RK2 scheme here:\n",
    "def AdvectionRK2(particle, fieldset, time):\n",
    "    \"\"\" Write your own RK2 scheme here! Ask for help if needed.\"\"\"\n",
    "    ...\n",
    "    particle_dlon += ...\n",
    "    particle_dlat += ..."
   ]
  },
  {
   "cell_type": "code",
   "execution_count": null,
   "id": "6254a883",
   "metadata": {},
   "outputs": [],
   "source": [
    "# Define initial locations to release water parcels\n",
    "n_particles = 5\n",
    "initial_release_lons = 26.0 * np.ones(n_particles)\n",
    "initial_release_lats = np.linspace(-37.5, -34.5, n_particles)"
   ]
  },
  {
   "cell_type": "code",
   "execution_count": null,
   "id": "f63eec93",
   "metadata": {},
   "outputs": [],
   "source": [
    "# Simulation settings\n",
    "runtime = timedelta(days=7)    # Total simulation time\n",
    "dt = timedelta(hours=12)       # Advection timestep\n",
    "outputdt = dt                  # Output timestep\n",
    "chunks = int(runtime/outputdt) # Because we will store a lot of positions, to speed up our simulation we need to chunk the output datafile\n"
   ]
  },
  {
   "cell_type": "code",
   "execution_count": null,
   "id": "3048960b",
   "metadata": {},
   "outputs": [],
   "source": [
    "# Initialise a particle set and output file\n",
    "pset = parcels.ParticleSet(fieldset=fieldset, pclass=parcels.JITParticle,\n",
    "            lon=initial_release_lons,\n",
    "            lat=initial_release_lats)\n",
    "pfile = pset.ParticleFile(name=\"output/AdvectionRK2_simulation.zarr\", outputdt=outputdt, chunks=(len(pset), chunks))\n",
    "\n",
    "# Execute the simulation using your AdvectionRK2 scheme\n",
    "pset.execute(AdvectionRK2, runtime=runtime, dt=dt, output_file=pfile)"
   ]
  },
  {
   "cell_type": "code",
   "execution_count": null,
   "id": "e1a4e41d",
   "metadata": {},
   "outputs": [],
   "source": [
    "# Open the dataset and visualise the results\n",
    "ds = xr.open_zarr(\"output/AdvectionRK2_simulation.zarr\")\n",
    "fig = plt.figure(figsize=(3,3))\n",
    "plt.title('AdvectionRK2 simulation')\n",
    "plt.plot(ds.lon.T, ds.lat.T, alpha=0.75)\n",
    "plt.xlabel('Longitude')\n",
    "plt.ylabel('Latitude')\n",
    "plt.show()"
   ]
  },
  {
   "cell_type": "markdown",
   "id": "82439515",
   "metadata": {},
   "source": [
    "### How does changing the advection timestep change our results?\n",
    "We will now run several simulations, where we change the timesteps, to see if the results of our simulation change."
   ]
  },
  {
   "cell_type": "code",
   "execution_count": null,
   "id": "2e3eab49",
   "metadata": {},
   "outputs": [],
   "source": [
    "# Create a list of different advection timesteps to use\n",
    "dt_choices = [timedelta(hours=12), timedelta(hours=6), timedelta(hours=1), timedelta(minutes=20), timedelta(minutes=5)]\n",
    "\n",
    "for dt in dt_choices:\n",
    "    pset = parcels.ParticleSet(fieldset=fieldset, pclass=parcels.JITParticle,\n",
    "        lon=initial_release_lons,\n",
    "        lat=initial_release_lats)\n",
    "    outputdt = dt\n",
    "    chunks = int(runtime/outputdt) # Because we will store a lot of positions, to speed up our simulation we need to chunk the output datafile\n",
    "    \n",
    "    pfile = pset.ParticleFile(name=f\"output/AdvectionRK2_dt_{dt.seconds}s.zarr\", outputdt=outputdt, chunks=(len(pset), chunks))\n",
    "\n",
    "    print(f\"Begin simulation for (scheme: AdvectionRK2, dt={dt.seconds} s)\")\n",
    "    pset.execute(AdvectionRK2, runtime=runtime, dt=dt, output_file=pfile)"
   ]
  },
  {
   "cell_type": "code",
   "execution_count": null,
   "id": "98a34186",
   "metadata": {},
   "outputs": [],
   "source": [
    "# Create a linear colour map for the different timesteps and load the different datasets to visualise the different trajectories\n",
    "dt_colours = np.linspace(0,1,len(dt_choices), endpoint=True)\n",
    "\n",
    "# Construct the figure\n",
    "plt.figure(figsize=(5,5))\n",
    "plt.title('AdvectionRK2 simulation')\n",
    "for i, dt in enumerate(dt_choices):\n",
    "    ds = xr.open_zarr(f\"output/AdvectionRK2_dt_{dt.seconds}s.zarr\")\n",
    "    labels = [f\"dt = {str(dt)}\"] + [None] * (ds.lon.shape[0] - 1)\n",
    "    plt.plot(ds.lon.T, ds.lat.T, alpha=0.75, color=plt.cm.viridis(dt_colours[i]), label=labels)\n",
    "    plt.xlabel('Longitude')\n",
    "    plt.ylabel('Latitude')\n",
    "plt.legend()\n",
    "plt.show()"
   ]
  },
  {
   "cell_type": "markdown",
   "id": "13a4f08f",
   "metadata": {},
   "source": [
    "### What about comparing to other advection schemes?"
   ]
  },
  {
   "cell_type": "code",
   "execution_count": null,
   "id": "d38e90ac",
   "metadata": {},
   "outputs": [],
   "source": [
    "# Create lists of advection schemes and advection timesteps to test\n",
    "advection_schemes = [AdvectionRK2, parcels.AdvectionEE, parcels.AdvectionRK4]\n",
    "dt_choices = [timedelta(hours=12), timedelta(hours=6), timedelta(hours=1), timedelta(minutes=20), timedelta(minutes=5)]"
   ]
  },
  {
   "cell_type": "code",
   "execution_count": null,
   "id": "94b258ec",
   "metadata": {},
   "outputs": [],
   "source": [
    "for advection_scheme in advection_schemes:\n",
    "    for dt in dt_choices:\n",
    "        pset = parcels.ParticleSet(fieldset=fieldset, pclass=parcels.JITParticle,\n",
    "            lon=initial_release_lons,\n",
    "            lat=initial_release_lats)\n",
    "        outputdt = dt\n",
    "        chunks = int(runtime/outputdt) # Because we will store a lot of positions, to speed up our simulation we need to chunk the output datafile\n",
    "        \n",
    "        pfile = pset.ParticleFile(name=f\"output/{advection_scheme.__name__}_dt_{dt.seconds}s.zarr\", outputdt=outputdt, chunks=(len(pset), chunks))\n",
    "\n",
    "        print(f\"Begin simulation for (scheme: {advection_scheme.__name__}, dt={dt.seconds} s)\")\n",
    "        pset.execute(advection_scheme, runtime=runtime, dt=dt, output_file=pfile)"
   ]
  },
  {
   "cell_type": "code",
   "execution_count": null,
   "id": "20066108",
   "metadata": {},
   "outputs": [],
   "source": [
    "# To compare the results visually, we will need distinct colour maps for each advection scheme and timestep\n",
    "dt_colours = np.linspace(0,1,len(dt_choices), endpoint=True)\n",
    "scheme_colours = np.linspace(0,1,len(advection_schemes), endpoint=True)"
   ]
  },
  {
   "cell_type": "code",
   "execution_count": null,
   "id": "d56d0de2",
   "metadata": {},
   "outputs": [],
   "source": [
    "# Let's first compare different timesteps within each advection scheme\n",
    "fig, axs = plt.subplots(nrows=1, ncols=len(advection_schemes), figsize=(15,5))\n",
    "for i, advection_scheme in enumerate(advection_schemes):\n",
    "    axs[i].set_title(f'{advection_scheme.__name__}')\n",
    "    axs[i].set_xlabel('Longitude')\n",
    "    for j,dt in enumerate(dt_choices):\n",
    "        ds = xr.open_zarr(f\"output/{advection_scheme.__name__}_dt_{dt.seconds}s.zarr\")\n",
    "        labels = [f\"dt = {str(dt)}\"] + [None] * (ds.lon.shape[0] - 1)\n",
    "        axs[i].plot(ds.lon.T, ds.lat.T, alpha=0.75, color=plt.cm.viridis(dt_colours[j]), label=labels)\n",
    "    axs[0].legend()\n",
    "    axs[0].set_ylabel('Latitude')\n",
    "    #plt.legend()\n",
    "plt.show()"
   ]
  },
  {
   "cell_type": "code",
   "execution_count": null,
   "id": "8122f7b5",
   "metadata": {},
   "outputs": [],
   "source": [
    "# Now let's compare different advection schemes with the same timestep\n",
    "fig, axs = plt.subplots(nrows=1, ncols=len(dt_choices), figsize=(15,5))\n",
    "for i, dt_choice in enumerate(dt_choices):\n",
    "    axs[i].set_title(f'{str(dt_choice)}')\n",
    "    axs[i].set_xlabel('Longitude')\n",
    "    for j,advection_scheme in enumerate(advection_schemes):\n",
    "        ds = xr.open_zarr(f\"output/{advection_scheme.__name__}_dt_{dt_choice.seconds}s.zarr\")\n",
    "        labels = [f\"{advection_scheme.__name__}\"] + [None] * (ds.lon.shape[0] - 1)\n",
    "        axs[i].plot(ds.lon.T, ds.lat.T, alpha=0.75, color=plt.cm.viridis(dt_colours[j]), label=labels)\n",
    "    axs[0].legend()\n",
    "    axs[0].set_ylabel('Latitude')\n",
    "    #plt.legend()\n",
    "plt.show()"
   ]
  },
  {
   "cell_type": "markdown",
   "id": "641017a6",
   "metadata": {},
   "source": [
    "Clearly, for longer timesteps, the RK2 and RK4 schemes perform better. However, if the timestep is sufficiently short (here, 5 minutes) then the Euler-forward scheme performs indistinguishibly over the 5 day simulation."
   ]
  },
  {
   "cell_type": "markdown",
   "id": "c4a6b242",
   "metadata": {},
   "source": [
    "## Developing a wind-drift kernel\n",
    "A buoyant particle of finite size that floats on the ocean surface may experience a drift induced by wind. In the second part of this notebook, we will develop a number of wind-drift kernels.\n",
    "\n",
    "A simple equation to describe the velocity of a particle that may experience wind-induced drift is $\\mathbf{v}_\\text{p} = \\mathbf{u} + \\alpha \\mathbf{u}_\\text{w}$, where $\\mathbf{u}$ is the ocean velocity, $\\mathbf{u}_\\text{w}$ is the wind velocity, and $\\alpha$ is the windage coefficient. Let's construct a kernel that models just the second half of this equation (as we can use the built-in `parcels` advection kernels to model the first half!)."
   ]
  },
  {
   "cell_type": "code",
   "execution_count": null,
   "id": "c004b89a",
   "metadata": {},
   "outputs": [],
   "source": [
    "# Reconstruct our fieldset:\n",
    "fieldset = parcels.FieldSet.from_netcdf(filenames, variables, dimensions)\n",
    "\n",
    "# Create an idealised wind field and add it to the fieldset\n",
    "xdim, ydim = (len(fieldset.U.lon), len(fieldset.U.lat))\n",
    "UWind = parcels.Field(\n",
    "    \"UWind\",\n",
    "    np.ones((ydim, xdim), dtype=np.float32) * np.sin(fieldset.U.lat)[:, None],\n",
    "    lon=fieldset.U.lon,\n",
    "    lat=fieldset.U.lat,\n",
    "    mesh=\"spherical\",\n",
    "    fieldtype=\"U\",\n",
    ")\n",
    "VWind = parcels.Field(\n",
    "    \"VWind\", np.zeros((ydim, xdim), dtype=np.float32), grid=UWind.grid, fieldtype=\"V\"\n",
    ")\n",
    "fieldset_wind = parcels.FieldSet(UWind, VWind)\n",
    "\n",
    "fieldset.add_field(fieldset_wind.U, name=\"UWind\")\n",
    "fieldset.add_field(fieldset_wind.V, name=\"VWind\")"
   ]
  },
  {
   "cell_type": "code",
   "execution_count": null,
   "id": "a8d0401c",
   "metadata": {},
   "outputs": [],
   "source": [
    "# Define a custom particle class that includes a windage factor and angle\n",
    "WindParticle = parcels.JITParticle\n",
    "WindParticle = WindParticle.add_variable(\"windage_coefficient\", np.float64)\n",
    "WindParticle = WindParticle.add_variable(\"windangle\", np.float64)"
   ]
  },
  {
   "cell_type": "code",
   "execution_count": null,
   "id": "53d601c4",
   "metadata": {},
   "outputs": [],
   "source": [
    "# Define settings for the simulations\n",
    "# Reuse the same runtime as before\n",
    "dt = timedelta(hours=12)       # Advection timestep\n",
    "outputdt = dt                  # Output timestep\n",
    "chunks = int(runtime/outputdt) # Because we will store a lot of positions, to speed up our simulation we need to chunk the output datafile"
   ]
  },
  {
   "cell_type": "code",
   "execution_count": null,
   "id": "f85e6da5",
   "metadata": {},
   "outputs": [],
   "source": [
    "# Let's define a basic wind-drift kernel using an Euler-forward scheme\n",
    "def WindDriftKernel(particle, fieldset, time):\n",
    "    \"\"\" Write your own wind-drift kernel here! Ask for help if needed.\"\"\"\n",
    "    particle_dlon += ...\n",
    "    particle_dlat += ..."
   ]
  },
  {
   "cell_type": "code",
   "execution_count": null,
   "id": "359d0344",
   "metadata": {},
   "outputs": [],
   "source": [
    "# Let's create a particle set, and use a windage of 3%\n",
    "pset = parcels.ParticleSet(fieldset,\n",
    "                           pclass=WindParticle,\n",
    "                           lon=initial_release_lons,\n",
    "                           lat=initial_release_lats,\n",
    "                           windage_coefficient=0.03*np.ones_like(initial_release_lons))\n",
    "\n",
    "output_file = pset.ParticleFile(name=\"output/WindDriftKernel.zarr\", outputdt=outputdt)\n",
    "pset.execute(\n",
    "    [parcels.AdvectionRK4, WindDriftKernel],\n",
    "    runtime=runtime,\n",
    "    dt=dt,\n",
    "    output_file=output_file,\n",
    ")"
   ]
  },
  {
   "cell_type": "code",
   "execution_count": null,
   "id": "48904e24",
   "metadata": {},
   "outputs": [],
   "source": [
    "# Now compare the results to when no windage is applied\n",
    "ds_nowind = xr.open_zarr(f\"output/AdvectionRK4_dt_{dt.seconds}s.zarr\")\n",
    "ds_wind = xr.open_zarr(\"output/WindDriftKernel.zarr\")\n",
    "fig = plt.figure(figsize=(5,5))\n",
    "plt.title('AdvectionRK4 with and without windage')\n",
    "nowind_labels = [\"No wind\"] + [None] * (ds_nowind.lon.shape[0] - 1)\n",
    "wind_labels = [\"With wind\"] + [None] * (ds_wind.lon.shape[0] - 1)\n",
    "plt.plot(ds_nowind.lon.T, ds_nowind.lat.T, alpha=0.75, color='black', label=nowind_labels)\n",
    "plt.plot(ds_wind.lon.T, ds_wind.lat.T, alpha=0.75, color='red', label=wind_labels)\n",
    "plt.xlabel('Longitude')\n",
    "plt.ylabel('Latitude')\n",
    "plt.legend()\n",
    "plt.show()"
   ]
  },
  {
   "cell_type": "markdown",
   "id": "165e9efd",
   "metadata": {},
   "source": [
    "### What happens if we use the \"relative wind\" instead of the \"absolute wind\"?\n",
    "Because our particle is already moving in the ocean, the wind it \"feels\" is not the sampled wind $u_\\text{w}$, rather, it is the \"relative\" wind $u_\\text{w} - u$. An equation to describe this particle velocity is $\\mathbf{v}_\\text{p} = \\mathbf{u} + \\alpha (\\mathbf{u}_\\text{w}-\\mathbf{u})$. Construct a \"relative wind\" kernel (again, just of the right hand side), and compare the results."
   ]
  },
  {
   "cell_type": "code",
   "execution_count": null,
   "id": "1880ba9f",
   "metadata": {},
   "outputs": [],
   "source": [
    "# Let's define a relative wind-drift kernel using an Euler-forward scheme\n",
    "def RelativeWindDriftKernel(particle, fieldset, time):\n",
    "   \"\"\" Write your own wind-drift kernel here, using the \"relative\" wind! Ask for help if needed.\"\"\"\n",
    "    particle_dlon += ...\n",
    "    particle_dlat += ..."
   ]
  },
  {
   "cell_type": "code",
   "execution_count": null,
   "id": "9303ba38",
   "metadata": {},
   "outputs": [],
   "source": [
    "# Let's create a particle set, and use a windage of 3%\n",
    "pset = parcels.ParticleSet(fieldset,\n",
    "                           pclass=WindParticle,\n",
    "                           lon=initial_release_lons,\n",
    "                           lat=initial_release_lats,\n",
    "                           windage_coefficient=0.03*np.ones_like(initial_release_lons))\n",
    "\n",
    "output_file = pset.ParticleFile(name=\"output/RelativeWindDriftKernel.zarr\", outputdt=outputdt)\n",
    "pset.execute(\n",
    "    [parcels.AdvectionRK4, RelativeWindDriftKernel],\n",
    "    runtime=runtime,\n",
    "    dt=dt,\n",
    "    output_file=output_file,\n",
    ")"
   ]
  },
  {
   "cell_type": "code",
   "execution_count": null,
   "id": "45bfed31",
   "metadata": {},
   "outputs": [],
   "source": [
    "# Now compare the results to when no windage is applied\n",
    "ds_nowind = xr.open_zarr(f\"output/AdvectionRK4_dt_{dt.seconds}s.zarr\")\n",
    "ds_wind = xr.open_zarr(\"output/WindDriftKernel.zarr\")\n",
    "ds_relwind = xr.open_zarr(\"output/RelativeWindDriftKernel.zarr\")\n",
    "fig = plt.figure(figsize=(5,5))\n",
    "plt.title('AdvectionRK4 with and without windage')\n",
    "nowind_labels = [\"No wind\"] + [None] * (ds_nowind.lon.shape[0] - 1)\n",
    "wind_labels = [\"With wind\"] + [None] * (ds_wind.lon.shape[0] - 1)\n",
    "relwind_labels = [\"Relative wind\"] + [None] * (ds_relwind.lon.shape[0] - 1)\n",
    "plt.plot(ds_nowind.lon.T, ds_nowind.lat.T, alpha=0.75, color='black', label=nowind_labels)\n",
    "plt.plot(ds_wind.lon.T, ds_wind.lat.T, alpha=0.75, color='red', label=wind_labels)\n",
    "plt.plot(ds_relwind.lon.T, ds_relwind.lat.T, alpha=0.75, color='blue', linestyle=':', label=relwind_labels)\n",
    "plt.xlabel('Longitude')\n",
    "plt.ylabel('Latitude')\n",
    "plt.legend()\n",
    "plt.show()"
   ]
  },
  {
   "cell_type": "markdown",
   "id": "78e2a530",
   "metadata": {},
   "source": [
    "### Not all particles are 'pushed' in the direction of the wind...\n",
    "If particles are non-spherical, they may tend to drift at an angle to the wind (like blue bottles in Australia!). Let's implement a relative wind-drift kernel that incorporates an angled drift term.\n",
    "\n",
    "We can write this mathematically using a rotation matrix $R$. If the (2D) particle velocity is given by:\n",
    "\\begin{align*}\n",
    "\\mathbf{v}_\\text{p} = \\mathbf{u} + \\alpha R (\\mathbf{u}_\\text{w}-\\mathbf{u}),\n",
    "\\end{align*}\n",
    "\n",
    "where $R = \\begin{bmatrix} \\cos(\\theta) & -\\sin(\\theta) \\\\ \\sin(\\theta) & \\cos(\\theta) \\end{bmatrix}$ is the rotation matrix, then, we can write each velocity component out as:\n",
    "\n",
    "\\begin{align*}\n",
    "u_\\text{p} &= u + \\alpha(\\cos(\\theta)(u_\\text{w} - u) -\\sin(\\theta)(v_\\text{w}-v)), \\\\\n",
    "v_\\text{p} &= v + \\alpha(\\sin(\\theta)(u_\\text{w} - u) +\\cos(\\theta)(v_\\text{w}-v)).\n",
    "\\end{align*}\n",
    "\n",
    "Let's create a kernel for this!"
   ]
  },
  {
   "cell_type": "code",
   "execution_count": null,
   "id": "b5841f7e",
   "metadata": {},
   "outputs": [],
   "source": [
    "# Create a relative wind drift kernel that applies windage at an angle to the wind direction\n",
    "def AngledRelativeWindDriftKernel(particle, fieldset, time):\n",
    "    \"\"\" Write your own \"angled relative wind-drift kernel here! Ask for help if needed.\n",
    "        Note! math.radians doesn't work in JIT mode. You can convert an angle into radians\n",
    "        using: angle_rad = math.pi*(angle)/180.0\n",
    "    \"\"\"\n",
    "\n",
    "    particle_dlon += ...\n",
    "    particle_dlat += ..."
   ]
  },
  {
   "cell_type": "code",
   "execution_count": null,
   "id": "621d3bc2",
   "metadata": {},
   "outputs": [],
   "source": [
    "# Let's create a particle set, and use a windage of 3%\n",
    "# and wind pushes the particles with a 20deg angle\n",
    "\n",
    "pset = parcels.ParticleSet(fieldset,\n",
    "                           pclass=WindParticle,\n",
    "                           lon=initial_release_lons,\n",
    "                           lat=initial_release_lats,\n",
    "                           windage_coefficient=0.03*np.ones_like(initial_release_lons),\n",
    "                           windangle=20.0*np.ones_like(initial_release_lons))\n",
    "output_file = pset.ParticleFile(name=\"output/AngledRelativeWindDriftKernel.zarr\", outputdt=outputdt)\n",
    "pset.execute(\n",
    "    [parcels.AdvectionRK4, AngledRelativeWindDriftKernel],\n",
    "    runtime=runtime,\n",
    "    dt=dt,\n",
    "    output_file=output_file,\n",
    ")"
   ]
  },
  {
   "cell_type": "code",
   "execution_count": null,
   "id": "4b5e4b74",
   "metadata": {},
   "outputs": [],
   "source": [
    "# Now compare the results to when no windage is applied\n",
    "ds_nowind = xr.open_zarr(f\"output/AdvectionRK4_dt_{dt.seconds}s.zarr\")\n",
    "ds_wind = xr.open_zarr(\"output/WindDriftKernel.zarr\")\n",
    "ds_relwind = xr.open_zarr(\"output/RelativeWindDriftKernel.zarr\")\n",
    "ds_angwind = xr.open_zarr(\"output/AngledRelativeWindDriftKernel.zarr\")\n",
    "\n",
    "\n",
    "fig = plt.figure(figsize=(7,7))\n",
    "plt.title('AdvectionRK4 with and without windage')\n",
    "nowind_labels = [\"No wind\"] + [None] * (ds_nowind.lon.shape[0] - 1)\n",
    "wind_labels = [\"With wind\"] + [None] * (ds_wind.lon.shape[0] - 1)\n",
    "relwind_labels = [\"Relative wind\"] + [None] * (ds_relwind.lon.shape[0] - 1)\n",
    "angwind_labels = [\"Angled wind\"] + [None] * (ds_angwind.lon.shape[0] - 1)\n",
    "plt.plot(ds_nowind.lon.T, ds_nowind.lat.T, alpha=0.75, color='black', label=nowind_labels)\n",
    "plt.plot(ds_wind.lon.T, ds_wind.lat.T, alpha=0.75, color='red', label=wind_labels)\n",
    "plt.plot(ds_relwind.lon.T, ds_relwind.lat.T, alpha=0.75, color='blue', linestyle=':', label=relwind_labels)\n",
    "plt.plot(ds_angwind.lon.T, ds_angwind.lat.T, alpha=0.75, color='green', linestyle='--', label=angwind_labels)\n",
    "plt.xlabel('Longitude')\n",
    "plt.ylabel('Latitude')\n",
    "plt.legend()\n",
    "plt.show()"
   ]
  }
 ],
 "metadata": {
  "kernelspec": {
   "display_name": "parcels_workshop",
   "language": "python",
   "name": "python3"
  },
  "language_info": {
   "codemirror_mode": {
    "name": "ipython",
    "version": 3
   },
   "file_extension": ".py",
   "mimetype": "text/x-python",
   "name": "python",
   "nbconvert_exporter": "python",
   "pygments_lexer": "ipython3",
   "version": "3.13.7"
  }
 },
 "nbformat": 4,
 "nbformat_minor": 5
}
